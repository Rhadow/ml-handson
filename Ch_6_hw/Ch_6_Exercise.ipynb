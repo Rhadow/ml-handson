{
 "cells": [
  {
   "cell_type": "markdown",
   "metadata": {},
   "source": [
    "### Setup "
   ]
  },
  {
   "cell_type": "code",
   "execution_count": 1,
   "metadata": {},
   "outputs": [],
   "source": [
    "import numpy as np\n",
    "from sklearn.tree import DecisionTreeClassifier\n",
    "from sklearn.model_selection import train_test_split, GridSearchCV, ShuffleSplit\n",
    "from sklearn.datasets import make_moons\n",
    "from sklearn.metrics import accuracy_score\n",
    "from scipy.stats import mode\n",
    "\n",
    "random_seed = 43"
   ]
  },
  {
   "cell_type": "markdown",
   "metadata": {},
   "source": [
    "### Decision Tree with Moon Dataset"
   ]
  },
  {
   "cell_type": "code",
   "execution_count": 2,
   "metadata": {},
   "outputs": [],
   "source": [
    "X_raw, y_raw = make_moons(n_samples=10000, noise=0.4)\n",
    "X_train, X_test, y_train, y_test = train_test_split(X_raw, y_raw, test_size=0.2, random_state=random_seed)"
   ]
  },
  {
   "cell_type": "code",
   "execution_count": 3,
   "metadata": {},
   "outputs": [
    {
     "data": {
      "text/plain": [
       "GridSearchCV(cv=5, error_score='raise',\n",
       "       estimator=DecisionTreeClassifier(class_weight=None, criterion='gini', max_depth=None,\n",
       "            max_features=None, max_leaf_nodes=None,\n",
       "            min_impurity_decrease=0.0, min_impurity_split=None,\n",
       "            min_samples_leaf=1, min_samples_split=2,\n",
       "            min_weight_fraction_leaf=0.0, presort=False, random_state=43,\n",
       "            splitter='best'),\n",
       "       fit_params=None, iid=True, n_jobs=-1,\n",
       "       param_grid={'min_samples_leaf': [5, 10, 15, 20], 'max_leaf_nodes': [None, 15, 20, 25, 30], 'max_depth': [None, 5, 8, 10]},\n",
       "       pre_dispatch='2*n_jobs', refit=True, return_train_score='warn',\n",
       "       scoring=None, verbose=0)"
      ]
     },
     "execution_count": 3,
     "metadata": {},
     "output_type": "execute_result"
    }
   ],
   "source": [
    "dt_params = {\n",
    "    'max_depth': [None, 5, 8, 10],\n",
    "    'min_samples_leaf': [5, 10, 15, 20],\n",
    "    'max_leaf_nodes': [None, 15, 20, 25, 30]\n",
    "}\n",
    "dt_clf = GridSearchCV(DecisionTreeClassifier(random_state=random_seed), param_grid=dt_params, cv=5, n_jobs=-1)\n",
    "\n",
    "dt_clf.fit(X_train, y_train)"
   ]
  },
  {
   "cell_type": "code",
   "execution_count": 4,
   "metadata": {},
   "outputs": [
    {
     "name": "stdout",
     "output_type": "stream",
     "text": [
      "0.858875 {'min_samples_leaf': 10, 'max_leaf_nodes': 25, 'max_depth': None}\n",
      "0.858875 {'min_samples_leaf': 10, 'max_leaf_nodes': 25, 'max_depth': 8}\n",
      "0.858875 {'min_samples_leaf': 10, 'max_leaf_nodes': 25, 'max_depth': 10}\n",
      "0.858625 {'min_samples_leaf': 20, 'max_leaf_nodes': 25, 'max_depth': None}\n",
      "0.858625 {'min_samples_leaf': 20, 'max_leaf_nodes': 25, 'max_depth': 8}\n"
     ]
    }
   ],
   "source": [
    "def show_top_k_cv_results(clf, k):\n",
    "    params = dt_clf.cv_results_['params']\n",
    "    scores = dt_clf.cv_results_['mean_test_score']\n",
    "    for params, score in sorted(list(zip(scores, params)), key=lambda t: t[0], reverse=True)[:k]:\n",
    "        print(params, score)\n",
    "\n",
    "show_top_k_cv_results(dt_clf, 5)"
   ]
  },
  {
   "cell_type": "code",
   "execution_count": 5,
   "metadata": {},
   "outputs": [
    {
     "data": {
      "text/plain": [
       "0.8505"
      ]
     },
     "execution_count": 5,
     "metadata": {},
     "output_type": "execute_result"
    }
   ],
   "source": [
    "y_predict = dt_clf.predict(X_test)\n",
    "accuracy_score(y_test, y_predict)"
   ]
  },
  {
   "cell_type": "markdown",
   "metadata": {},
   "source": [
    "### Grow a Forest"
   ]
  },
  {
   "cell_type": "code",
   "execution_count": 6,
   "metadata": {},
   "outputs": [
    {
     "name": "stdout",
     "output_type": "stream",
     "text": [
      "0.7917204999999999\n"
     ]
    }
   ],
   "source": [
    "sets = 1000\n",
    "sample_per_set = 100\n",
    "train_size = sample_per_set / len(X_raw)\n",
    "\n",
    "spliter = ShuffleSplit(n_splits=sets, random_state=random_seed, train_size=train_size, test_size=1-train_size)\n",
    "accuracy_scores = []\n",
    "forest = []\n",
    "\n",
    "for train_index, test_index in spliter.split(X_raw):\n",
    "    dt_best_cls = DecisionTreeClassifier(**dt_clf.best_params_)\n",
    "    dt_best_cls.fit(X_raw[train_index], y_raw[train_index])\n",
    "    forest.append(dt_best_cls)\n",
    "    y_pred = dt_best_cls.predict(X_test)\n",
    "    accuracy_scores.append(accuracy_score(y_test, y_pred))\n",
    "\n",
    "print(np.mean(accuracy_scores))"
   ]
  },
  {
   "cell_type": "markdown",
   "metadata": {},
   "source": [
    "#### Get Majority Vote"
   ]
  },
  {
   "cell_type": "code",
   "execution_count": 7,
   "metadata": {},
   "outputs": [],
   "source": [
    "y_forest = np.empty([len(forest), len(X_test)])\n",
    "for y_forest_index, decision_tree in enumerate(forest):\n",
    "    y_forest[y_forest_index] = decision_tree.predict(X_test)\n",
    "\n",
    "y_pred_majority_votes, _ = mode(y_forest, axis=0)\n",
    "majority_vote_predictions = y_pred_majority_votes.reshape([-1])"
   ]
  },
  {
   "cell_type": "markdown",
   "metadata": {},
   "source": [
    "#### Compare to test result"
   ]
  },
  {
   "cell_type": "code",
   "execution_count": 8,
   "metadata": {},
   "outputs": [
    {
     "name": "stdout",
     "output_type": "stream",
     "text": [
      "0.8315\n"
     ]
    }
   ],
   "source": [
    "print(accuracy_score(y_test, majority_vote_predictions))"
   ]
  },
  {
   "cell_type": "code",
   "execution_count": null,
   "metadata": {},
   "outputs": [],
   "source": []
  }
 ],
 "metadata": {
  "kernelspec": {
   "display_name": "Python 3",
   "language": "python",
   "name": "python3"
  },
  "language_info": {
   "codemirror_mode": {
    "name": "ipython",
    "version": 3
   },
   "file_extension": ".py",
   "mimetype": "text/x-python",
   "name": "python",
   "nbconvert_exporter": "python",
   "pygments_lexer": "ipython3",
   "version": "3.5.4"
  },
  "toc": {
   "base_numbering": 1,
   "nav_menu": {},
   "number_sections": false,
   "sideBar": true,
   "skip_h1_title": false,
   "title_cell": "Table of Contents",
   "title_sidebar": "Contents",
   "toc_cell": false,
   "toc_position": {},
   "toc_section_display": true,
   "toc_window_display": false
  }
 },
 "nbformat": 4,
 "nbformat_minor": 2
}
