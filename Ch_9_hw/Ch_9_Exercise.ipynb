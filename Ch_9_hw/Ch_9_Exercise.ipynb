{
 "cells": [
  {
   "cell_type": "code",
   "execution_count": 10,
   "metadata": {},
   "outputs": [],
   "source": [
    "from sklearn.datasets import make_moons\n",
    "from sklearn.model_selection import train_test_split\n",
    "from sklearn.metrics import accuracy_score, precision_score, recall_score\n",
    "import numpy as np\n",
    "import tensorflow as tf\n",
    "\n",
    "random_seed = 42"
   ]
  },
  {
   "cell_type": "code",
   "execution_count": 11,
   "metadata": {},
   "outputs": [],
   "source": [
    "X_raw, y_raw = make_moons(1000, random_state=random_seed)\n",
    "m, n = X_raw.shape\n",
    "X_train, X_test, y_train, y_test = train_test_split(np.c_[np.ones([m, 1]), X_raw], y_raw.reshape(-1, 1), random_state=random_seed, test_size=0.2)"
   ]
  },
  {
   "cell_type": "code",
   "execution_count": 12,
   "metadata": {},
   "outputs": [],
   "source": [
    "X_train_enhanced = np.c_[X_train, np.power(X_train[:, 1], 2), np.power(X_train[:, 2], 2), np.power(X_train[:, 1], 3), np.power(X_train[:, 2], 3)]\n",
    "X_test_enhanced = np.c_[X_test, np.power(X_test[:, 1], 2), np.power(X_test[:, 2], 2), np.power(X_test[:, 1], 3), np.power(X_test[:, 2], 3)]"
   ]
  },
  {
   "cell_type": "code",
   "execution_count": 13,
   "metadata": {},
   "outputs": [],
   "source": [
    "tf.reset_default_graph()\n",
    "enhanced_feature_count = int(X_train_enhanced.shape[1])\n",
    "def logistic_regression(X, y, learning_rate=0.01, initializer=None, seed=42):\n",
    "    with tf.name_scope('LogisticRegression'):\n",
    "        with tf.name_scope('Model'):\n",
    "            if initializer is None:\n",
    "                initializer = tf.random_uniform([enhanced_feature_count, 1], 1, -1, seed=seed)\n",
    "            theta = tf.Variable(initializer, dtype=tf.float32, name=\"theta\")\n",
    "            logit = tf.matmul(X, theta)\n",
    "            y_prob = tf.sigmoid(logit)\n",
    "        with tf.name_scope('Train'):\n",
    "            log_loss = tf.losses.log_loss(y, y_prob)\n",
    "            optimizer = tf.train.GradientDescentOptimizer(learning_rate=learning_rate)\n",
    "            train_op = optimizer.minimize(log_loss)\n",
    "            loss_summary = tf.summary.scalar('log_loss', log_loss)\n",
    "        with tf.name_scope('init'):\n",
    "            init = tf.global_variables_initializer()\n",
    "        with tf.name_scope('save'):\n",
    "            saver = tf.train.Saver()\n",
    "        return y_prob, log_loss, train_op, loss_summary, init, saver\n",
    "        "
   ]
  },
  {
   "cell_type": "code",
   "execution_count": 14,
   "metadata": {},
   "outputs": [],
   "source": [
    "from datetime import datetime\n",
    "\n",
    "def get_log_dir(prefix=\"\"):\n",
    "    now = datetime.utcnow().strftime(\"%Y%m%d%H%M%S\")\n",
    "    root_logdir = \"tf_logs\"\n",
    "    if prefix:\n",
    "        prefix += \"-\"\n",
    "    name = prefix + \"run-\" + now\n",
    "    return \"{}/{}/\".format(root_logdir, name)"
   ]
  },
  {
   "cell_type": "code",
   "execution_count": 15,
   "metadata": {},
   "outputs": [],
   "source": [
    "log_dir = get_log_dir('logreg')\n",
    "X = tf.placeholder(tf.float32, shape=(None, enhanced_feature_count), name=\"X\")\n",
    "y = tf.placeholder(tf.float32, shape=(None, 1), name=\"y\")\n",
    "y_prob, log_loss, train_op, loss_summary, init, saver = logistic_regression(X, y)\n",
    "file_writer = tf.summary.FileWriter(log_dir, tf.get_default_graph())"
   ]
  },
  {
   "cell_type": "code",
   "execution_count": 18,
   "metadata": {},
   "outputs": [
    {
     "name": "stdout",
     "output_type": "stream",
     "text": [
      "Epoch: 0 \tLoss: 1.2377924\n",
      "Epoch: 500 \tLoss: 0.20205694\n",
      "Epoch: 1000 \tLoss: 0.14478992\n",
      "Epoch: 1500 \tLoss: 0.113825604\n",
      "Epoch: 2000 \tLoss: 0.09400337\n",
      "Epoch: 2500 \tLoss: 0.08019906\n",
      "Epoch: 3000 \tLoss: 0.07004305\n",
      "Epoch: 3500 \tLoss: 0.06226339\n",
      "Epoch: 4000 \tLoss: 0.056091126\n",
      "Epoch: 4500 \tLoss: 0.051066063\n",
      "Epoch: 5000 \tLoss: 0.046946354\n",
      "Epoch: 5500 \tLoss: 0.04340781\n",
      "Epoch: 6000 \tLoss: 0.04045478\n",
      "Epoch: 6500 \tLoss: 0.03786284\n",
      "Epoch: 7000 \tLoss: 0.035573967\n",
      "Epoch: 7500 \tLoss: 0.033580724\n",
      "Epoch: 8000 \tLoss: 0.031809647\n",
      "Epoch: 8500 \tLoss: 0.030212544\n",
      "Epoch: 9000 \tLoss: 0.028801717\n",
      "Epoch: 9500 \tLoss: 0.0274964\n"
     ]
    }
   ],
   "source": [
    "import os\n",
    "\n",
    "n_epochs = 10000\n",
    "batch_size = 100\n",
    "n_batches = int(np.ceil(m / batch_size))\n",
    "\n",
    "checkpoint_path = \"./my_logreg_model.ckpt\"\n",
    "checkpoint_epoch_path = checkpoint_path + \".epoch\"\n",
    "final_model_path = \"./my_logreg_model\"\n",
    "\n",
    "def get_batches(epoch, batch_index, batch_size, X_input, y_input):\n",
    "    np.random.seed(epoch * batch_index + batch_size)\n",
    "    indices = np.random.randint(int(X_input.shape[0]), size=batch_size)\n",
    "    X_batch = X_input[indices]\n",
    "    y_batch = y_input[indices]\n",
    "    return X_batch, y_batch\n",
    "\n",
    "with tf.Session() as sess:\n",
    "    if os.path.isfile(checkpoint_epoch_path):\n",
    "        with open(checkpoint_epoch_path, 'rb') as f:\n",
    "            start_epoch = int(f.read())\n",
    "        print(\"Training was interrupted. Continuing at epoch\", start_epoch)\n",
    "        saver.restore(sess, checkpoint_path)\n",
    "    else:\n",
    "        start_epoch = 0\n",
    "        init.run()\n",
    "    \n",
    "    for epoch in range(n_epochs):\n",
    "        for batch_index in range(start_epoch, n_batches):\n",
    "            X_batch, y_batch = get_batches(epoch, batch_index, batch_size, X_train_enhanced, y_train)\n",
    "            sess.run(train_op, feed_dict={X: X_batch, y: y_batch})\n",
    "            loss_val, summary_str = sess.run([log_loss, loss_summary], feed_dict={X: X_test_enhanced, y: y_test})\n",
    "            file_writer.add_summary(summary_str, epoch)\n",
    "        if epoch % 500 == 0:\n",
    "            print(\"Epoch:\", epoch, \"\\tLoss:\", loss_val)\n",
    "            saver.save(sess, checkpoint_path)\n",
    "            with open(checkpoint_epoch_path, \"wb\") as f:\n",
    "                f.write(b\"%d\" % (epoch + 1))\n",
    "                    \n",
    "    saver.save(sess, final_model_path)\n",
    "    y_test_prob = y_prob.eval(feed_dict={X: X_test_enhanced, y: y_test})\n",
    "    os.remove(checkpoint_epoch_path)"
   ]
  },
  {
   "cell_type": "code",
   "execution_count": 19,
   "metadata": {},
   "outputs": [
    {
     "name": "stdout",
     "output_type": "stream",
     "text": [
      "Accuracy score:  1.0\n",
      "Precision score:  1.0\n",
      "Recall score:  1.0\n"
     ]
    }
   ],
   "source": [
    "y_test_pred = y_test_prob > 0.5\n",
    "print('Accuracy score: ', accuracy_score(y_test, y_test_pred))\n",
    "print('Precision score: ', precision_score(y_test, y_test_pred))\n",
    "print('Recall score: ', recall_score(y_test, y_test_pred))"
   ]
  },
  {
   "cell_type": "code",
   "execution_count": null,
   "metadata": {},
   "outputs": [],
   "source": []
  }
 ],
 "metadata": {
  "kernelspec": {
   "display_name": "Python 3",
   "language": "python",
   "name": "python3"
  },
  "language_info": {
   "codemirror_mode": {
    "name": "ipython",
    "version": 3
   },
   "file_extension": ".py",
   "mimetype": "text/x-python",
   "name": "python",
   "nbconvert_exporter": "python",
   "pygments_lexer": "ipython3",
   "version": "3.5.4"
  },
  "toc": {
   "base_numbering": 1,
   "nav_menu": {},
   "number_sections": true,
   "sideBar": true,
   "skip_h1_title": false,
   "title_cell": "Table of Contents",
   "title_sidebar": "Contents",
   "toc_cell": false,
   "toc_position": {},
   "toc_section_display": true,
   "toc_window_display": false
  }
 },
 "nbformat": 4,
 "nbformat_minor": 2
}
