{
 "cells": [
  {
   "cell_type": "markdown",
   "metadata": {},
   "source": [
    "## Setup"
   ]
  },
  {
   "cell_type": "code",
   "execution_count": 1,
   "metadata": {},
   "outputs": [],
   "source": [
    "# Common imports\n",
    "import numpy as np\n",
    "\n",
    "# to make this notebook's output stable across runs\n",
    "np.random.seed(42)\n",
    "\n",
    "# To plot pretty figures\n",
    "%matplotlib inline\n",
    "import matplotlib\n",
    "import matplotlib.pyplot as plt\n",
    "plt.rcParams['axes.labelsize'] = 14\n",
    "plt.rcParams['xtick.labelsize'] = 12\n",
    "plt.rcParams['ytick.labelsize'] = 12"
   ]
  },
  {
   "cell_type": "markdown",
   "metadata": {},
   "source": [
    "## Get MNIST"
   ]
  },
  {
   "cell_type": "code",
   "execution_count": 2,
   "metadata": {},
   "outputs": [
    {
     "data": {
      "text/plain": [
       "{'COL_NAMES': ['label', 'data'],\n",
       " 'DESCR': 'mldata.org dataset: mnist-original',\n",
       " 'data': array([[0, 0, 0, ..., 0, 0, 0],\n",
       "        [0, 0, 0, ..., 0, 0, 0],\n",
       "        [0, 0, 0, ..., 0, 0, 0],\n",
       "        ...,\n",
       "        [0, 0, 0, ..., 0, 0, 0],\n",
       "        [0, 0, 0, ..., 0, 0, 0],\n",
       "        [0, 0, 0, ..., 0, 0, 0]], dtype=uint8),\n",
       " 'target': array([0., 0., 0., ..., 9., 9., 9.])}"
      ]
     },
     "execution_count": 2,
     "metadata": {},
     "output_type": "execute_result"
    }
   ],
   "source": [
    "from sklearn.datasets import fetch_mldata\n",
    "mnist = fetch_mldata('MNIST original')\n",
    "mnist"
   ]
  },
  {
   "cell_type": "markdown",
   "metadata": {},
   "source": [
    "## Seperate Train & Test Dataset"
   ]
  },
  {
   "cell_type": "code",
   "execution_count": null,
   "metadata": {},
   "outputs": [],
   "source": [
    "train_dataset_counts = 60000\n",
    "X, y = mnist['data'], mnist['target']\n",
    "X_train, X_test, y_train, y_test = X[:train_dataset_counts], X[train_dataset_counts:], y[:train_dataset_counts], y[train_dataset_counts:]\n",
    "\n",
    "random_indexes = np.random.permutation(train_dataset_counts)\n",
    "X_train = X_train[random_indexes]\n",
    "y_train = y_train[random_indexes]"
   ]
  },
  {
   "cell_type": "markdown",
   "metadata": {},
   "source": [
    "## Fine Tune KNeighborsClassifier Model"
   ]
  },
  {
   "cell_type": "code",
   "execution_count": 4,
   "metadata": {},
   "outputs": [],
   "source": [
    "from sklearn.neighbors import KNeighborsClassifier\n",
    "from sklearn.model_selection import GridSearchCV\n",
    "\n",
    "param_grid = [{\"weights\":[\"uniform\"], \"n_neighbors\":[4]}]\n",
    "\n",
    "knn_cls_no_tune = KNeighborsClassifier()\n",
    "knn_cls_no_tune.fit(X_train, y_train)\n",
    "\n",
    "knn_grid = GridSearchCV(KNeighborsClassifier(), param_grid=param_grid, cv=5, verbose=3)\n",
    "knn_grid.fit(X_train, y_train)"
   ]
  },
  {
   "cell_type": "markdown",
   "metadata": {},
   "source": [
    "## Performance Evaluation on Training Datasets"
   ]
  },
  {
   "cell_type": "code",
   "execution_count": 5,
   "metadata": {},
   "outputs": [
    {
     "ename": "NameError",
     "evalue": "name 'knn_cls_no_tune' is not defined",
     "output_type": "error",
     "traceback": [
      "\u001b[1;31m---------------------------------------------------------------------------\u001b[0m",
      "\u001b[1;31mNameError\u001b[0m                                 Traceback (most recent call last)",
      "\u001b[1;32m<ipython-input-5-d65c527e3ff4>\u001b[0m in \u001b[0;36m<module>\u001b[1;34m()\u001b[0m\n\u001b[0;32m      1\u001b[0m \u001b[1;32mfrom\u001b[0m \u001b[0msklearn\u001b[0m\u001b[1;33m.\u001b[0m\u001b[0mmetrics\u001b[0m \u001b[1;32mimport\u001b[0m \u001b[0mprecision_score\u001b[0m\u001b[1;33m,\u001b[0m \u001b[0mrecall_score\u001b[0m\u001b[1;33m,\u001b[0m \u001b[0mf1_score\u001b[0m\u001b[1;33m,\u001b[0m \u001b[0maccuracy_score\u001b[0m\u001b[1;33m\u001b[0m\u001b[0m\n\u001b[0;32m      2\u001b[0m \u001b[1;33m\u001b[0m\u001b[0m\n\u001b[1;32m----> 3\u001b[1;33m \u001b[0my_predict_no_tune\u001b[0m \u001b[1;33m=\u001b[0m \u001b[0mknn_cls_no_tune\u001b[0m\u001b[1;33m.\u001b[0m\u001b[0mpredict\u001b[0m\u001b[1;33m(\u001b[0m\u001b[0mX_train\u001b[0m\u001b[1;33m)\u001b[0m\u001b[1;33m\u001b[0m\u001b[0m\n\u001b[0m\u001b[0;32m      4\u001b[0m \u001b[0mprint\u001b[0m\u001b[1;33m(\u001b[0m\u001b[1;34m\"Precision without tune\"\u001b[0m\u001b[1;33m,\u001b[0m \u001b[0mprecision_score\u001b[0m\u001b[1;33m(\u001b[0m\u001b[0my_predict_no_tune\u001b[0m\u001b[1;33m,\u001b[0m \u001b[0my_train\u001b[0m\u001b[1;33m)\u001b[0m\u001b[1;33m)\u001b[0m\u001b[1;33m\u001b[0m\u001b[0m\n\u001b[0;32m      5\u001b[0m \u001b[0mprint\u001b[0m\u001b[1;33m(\u001b[0m\u001b[1;34m\"Recall without tune\"\u001b[0m\u001b[1;33m,\u001b[0m \u001b[0mrecall_score\u001b[0m\u001b[1;33m(\u001b[0m\u001b[0my_predict_no_tune\u001b[0m\u001b[1;33m,\u001b[0m \u001b[0my_train\u001b[0m\u001b[1;33m)\u001b[0m\u001b[1;33m)\u001b[0m\u001b[1;33m\u001b[0m\u001b[0m\n",
      "\u001b[1;31mNameError\u001b[0m: name 'knn_cls_no_tune' is not defined"
     ]
    }
   ],
   "source": [
    "from sklearn.metrics import precision_score, recall_score, f1_score, accuracy_score\n",
    "\n",
    "y_predict_no_tune = knn_cls_no_tune.predict(X_train)\n",
    "print(\"Precision without tune\", precision_score(y_predict_no_tune, y_train))\n",
    "print(\"Recall without tune\", recall_score(y_predict_no_tune, y_train))\n",
    "print(\"F1 score without tune\", f1_score(y_predict_no_tune, y_train))\n",
    "print(\"Accuracy score without tune\", accuracy_score(y_predict_no_tune, y_train))\n",
    "\n",
    "y_predict_tuned = knn_grid.predict(X_train)\n",
    "print(\"Precision without tune\", precision_score(y_predict_tuned, y_train))\n",
    "print(\"Recall without tune\", recall_score(y_predict_tuned, y_train))\n",
    "print(\"F1 score without tune\", f1_score(y_predict_tuned, y_train))\n",
    "print(\"Accuracy score without tune\", accuracy_score(y_predict_tuned, y_train))\n"
   ]
  },
  {
   "cell_type": "markdown",
   "metadata": {},
   "source": [
    "## Performance Evaluation on Test Datasets"
   ]
  },
  {
   "cell_type": "code",
   "execution_count": null,
   "metadata": {},
   "outputs": [],
   "source": [
    "y_predict_no_tune = knn_cls_no_tune.predict(X_test)\n",
    "print(\"Precision without tune\", precision_score(y_predict_no_tune, y_test))\n",
    "print(\"Recall without tune\", recall_score(y_predict_no_tune, y_test))\n",
    "print(\"F1 score without tune\", f1_score(y_predict_no_tune, y_test))\n",
    "print(\"Accuracy score without tune\", accuracy_score(y_predict_no_tune, y_test))\n",
    "\n",
    "y_predict_tuned = knn_grid.predict(X_test)\n",
    "print(\"Precision without tune\", precision_score(y_predict_tuned, y_test))\n",
    "print(\"Recall without tune\", recall_score(y_predict_tuned, y_test))\n",
    "print(\"F1 score without tune\", f1_score(y_predict_tuned, y_test))\n",
    "print(\"Accuracy score without tune\", accuracy_score(y_predict_tuned, y_test))"
   ]
  },
  {
   "cell_type": "markdown",
   "metadata": {},
   "source": [
    "## Augment Training Dataset by Shifting"
   ]
  },
  {
   "cell_type": "code",
   "execution_count": null,
   "metadata": {},
   "outputs": [],
   "source": [
    "from scipy.ndimage.interpolation import shift\n",
    "import matplotlib\n",
    "import matplotlib.pyplot as plt\n",
    "\n",
    "def shift_image(image, dx, dy):\n",
    "    return shift(image.reshape((28,28)), (dy, dx)).reshape(784)\n",
    "    \n",
    "def plot_image(image):\n",
    "    plt.imshow(image.reshape((28,28)), cmap=matplotlib.cm.binary)\n",
    "    \n",
    "plt.subplot(131)\n",
    "plot_image(X_train[50])\n",
    "plt.subplot(132)\n",
    "plot_image(shift_image(X_train[50], -3,-5))"
   ]
  },
  {
   "cell_type": "code",
   "execution_count": null,
   "metadata": {},
   "outputs": [],
   "source": [
    "print(X_train.shape)\n",
    "print(y_train.shape)\n",
    "X_train_augmented = X_train.copy()\n",
    "y_train_augmented = y_train.copy()\n",
    "\n",
    "for dx, dy in [(1, 0), (-1, 0), (0, 1), (0, -1)]:\n",
    "    for image, label in zip(X_train, y_train):\n",
    "        X_train_augmented = np.append(X_train_augmented, [shift_image(image, dx, dy)], axis=0)\n",
    "        y_train_augmented = np.append(y_train_augmented, [label])\n",
    "\n",
    "print(X_train_augmented.shape)\n",
    "print(y_train_augmented.shape)\n",
    "\n",
    "plt.subplot(191)\n",
    "plot_image(X_train_augmented[0])\n",
    "plt.subplot(192)\n",
    "plot_image(X_train_augmented[60000])\n",
    "plt.subplot(193)\n",
    "plot_image(X_train_augmented[120000])"
   ]
  }
 ],
 "metadata": {
  "kernelspec": {
   "display_name": "Python 3",
   "language": "python",
   "name": "python3"
  },
  "language_info": {
   "codemirror_mode": {
    "name": "ipython",
    "version": 3
   },
   "file_extension": ".py",
   "mimetype": "text/x-python",
   "name": "python",
   "nbconvert_exporter": "python",
   "pygments_lexer": "ipython3",
   "version": "3.5.4"
  },
  "toc": {
   "base_numbering": 1,
   "nav_menu": {},
   "number_sections": true,
   "sideBar": true,
   "skip_h1_title": false,
   "title_cell": "Table of Contents",
   "title_sidebar": "Contents",
   "toc_cell": false,
   "toc_position": {},
   "toc_section_display": true,
   "toc_window_display": false
  }
 },
 "nbformat": 4,
 "nbformat_minor": 2
}
